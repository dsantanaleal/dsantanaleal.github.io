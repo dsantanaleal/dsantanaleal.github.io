{
  "nbformat": 4,
  "nbformat_minor": 0,
  "metadata": {
    "colab": {
      "name": "Entrada_estandar.ipynb",
      "provenance": [],
      "collapsed_sections": [],
      "include_colab_link": true
    },
    "kernelspec": {
      "name": "python3",
      "display_name": "Python 3"
    },
    "language_info": {
      "name": "python"
    }
  },
  "cells": [
    {
      "cell_type": "markdown",
      "metadata": {
        "id": "view-in-github",
        "colab_type": "text"
      },
      "source": [
        "<a href=\"https://colab.research.google.com/github/dsantanaleal/dsantanaleal.github.io/blob/master/Entrada_estandar.ipynb\" target=\"_parent\"><img src=\"https://colab.research.google.com/assets/colab-badge.svg\" alt=\"Open In Colab\"/></a>"
      ]
    },
    {
      "cell_type": "markdown",
      "metadata": {
        "id": "CAnrCObhSVtz"
      },
      "source": [
        "# Laboratorio 2.3\n",
        "\n",
        "*Elaborado por Oscar Franco-Bedoya*\n",
        "\n",
        "*`Proyecto Misión TIC 2022*\n",
        "\n",
        "\n",
        "## Objetivo\n",
        "En este laboratorio vamos a aprender a ingresar datos desde teclado a un programa en Python.\n",
        "\n",
        "\n",
        "# Entrar datos a nuestro programa\n",
        "Para que un programa sea realmente útil, debe permitir el ingreso de datos del *mundo exterior* para poder hacer cálculos con estos datos, Las entradas de datos mas comunes son:\n",
        "\n",
        "\n",
        "1.   Un archivo de texto en nuestro disco duro\n",
        "2.   Un dato tomado desde un sensor como un teclado o un GPS\n",
        "3.   Datos desde un sitio en la nube\n",
        "\n",
        "En este curso los datos serán ingresados por parte de los usuarios  utilizando  el teclado también conocido como la [Entrada Estandar][1] . (seleccione para mas información\n",
        "\n",
        "[1]:https://es.wikipedia.org/wiki/Entrada_estándar\n",
        "\n",
        "La función que nos permite ingresar datos desde el teclado es\n",
        "```python\n",
        "input()\n",
        "```\n",
        "Probemos lo que sucede si le decimos al interprete de Python que interprete esta función"
      ]
    },
    {
      "cell_type": "code",
      "metadata": {
        "id": "JvsjTKU7SF11",
        "colab": {
          "base_uri": "https://localhost:8080/",
          "height": 53
        },
        "outputId": "d5eb2a14-7354-4579-d3a0-bb4bac3d64a1"
      },
      "source": [
        "#Funcion que lee un valor desde teclado y lo retorna (al hacerlo se pierde, ¿Recuerdas porque?)\n",
        "input()"
      ],
      "execution_count": 1,
      "outputs": [
        {
          "name": "stdout",
          "output_type": "stream",
          "text": [
            "Hola\n"
          ]
        },
        {
          "output_type": "execute_result",
          "data": {
            "text/plain": [
              "'Hola'"
            ],
            "application/vnd.google.colaboratory.intrinsic+json": {
              "type": "string"
            }
          },
          "metadata": {},
          "execution_count": 1
        }
      ]
    },
    {
      "cell_type": "markdown",
      "metadata": {
        "id": "lA5hvJqjXTQ6"
      },
      "source": [
        "```input()``` es una función que lee un valor desde teclado y lo retorna como un texto (cadena de caracteres/str) asi se digiten números; por lo tanto, este valor puede ser almacenado en una variable.\n",
        "\n",
        "¡Probémoslo!"
      ]
    },
    {
      "cell_type": "code",
      "metadata": {
        "colab": {
          "base_uri": "https://localhost:8080/",
          "height": 0
        },
        "id": "VCJ8JoedYXTh",
        "outputId": "e65a0cb9-0841-418d-aebb-1f17df76b84b"
      },
      "source": [
        "#Funcion que lee un valor desde teclado y lo retorna para almacenarlo en un variable\n",
        "nombre=input()\n",
        "print(\"Hola\",nombre)"
      ],
      "execution_count": 2,
      "outputs": [
        {
          "output_type": "stream",
          "name": "stdout",
          "text": [
            "Diego\n",
            "Hola Diego\n"
          ]
        }
      ]
    },
    {
      "cell_type": "markdown",
      "metadata": {
        "id": "_9FFbt4TYtVZ"
      },
      "source": [
        "Aunque ya funciona un poco mejor, estaría bien que el usuario sepa que es lo que le estamos preguntando ¿No te parece? "
      ]
    },
    {
      "cell_type": "code",
      "metadata": {
        "colab": {
          "base_uri": "https://localhost:8080/",
          "height": 0
        },
        "id": "a9wyePdPY9Wn",
        "outputId": "113dfa8e-f2ba-4729-dcd6-949be410f42c"
      },
      "source": [
        "#Funcion que lee un valor desde teclado y lo retorna para almacenarlo en un variable mostrando un mensaje\n",
        "nombre=input(\"Digita tu nombre:\")\n",
        "print(\"Hola\",nombre)"
      ],
      "execution_count": 3,
      "outputs": [
        {
          "output_type": "stream",
          "name": "stdout",
          "text": [
            "Digita tu nombre:Diego\n",
            "Hola Diego\n"
          ]
        }
      ]
    },
    {
      "cell_type": "markdown",
      "metadata": {
        "id": "Bf4802OXZX2q"
      },
      "source": [
        "## Ejercicio el Censo\n",
        "¿Recuerdas el formulario que solicitaba datos para el censo de 1871?\n",
        "<img height=\"800px\" src=\"https://drive.google.com/thumbnail?id=1ADb-xM4QFSBqgGyRgY381x_teiNkYVmq\" align=\"left\" hspace=\"5px\" vspace=\"0\n",
        "px\">\n",
        "\n",
        "<br>\n",
        "<br>\n",
        "<br>\n",
        "<br>\n",
        "<br>\n",
        "<br>\n",
        "<br>\n",
        "<br>\n",
        "<br>\n",
        "<br>\n",
        "<br>\n",
        "<br>\n",
        "<br>\n",
        "<br>\n",
        "<br>\n",
        "<br>\n",
        "<br>\n",
        "<br>\n",
        "<br>\n",
        "<br>\n",
        "<br>\n",
        "<br>\n",
        "<br>\n",
        "<br>\n",
        "<br>\n",
        "<br>\n",
        "<br>\n",
        "<br>\n",
        "<br>\n",
        "<br>\n",
        "<br>\n",
        "<br>\n",
        "<br>\n",
        "<br>\n",
        "<br>\n",
        "<br>\n",
        "<br>\n",
        "<br>\n",
        "\n",
        "\n",
        "\n",
        "Escribe en la siguiente celda, un programa que lea cada uno de estos datos y luego los imprima en pantalla.\n"
      ]
    },
    {
      "cell_type": "code",
      "metadata": {
        "id": "aYU-WtYQckCv",
        "outputId": "bc6326b6-b313-4a8c-dbe6-ca54ac18f029",
        "colab": {
          "base_uri": "https://localhost:8080/",
          "height": 0
        }
      },
      "source": [
        "#Programa datos del censo\n",
        "#Escribe tu programa aqui\n",
        "name = input(\"Name:\")\n",
        "date_birth = input(\"Date of Birth:\")\n",
        "age = input(\"Age:\")\n",
        "occupation = input(\"Occupation:\")\n",
        "house_number = input(\"House Number:\")\n",
        "street_name = input(\"Street Name:\")\n",
        "town = input(\"Town:\")\n",
        "num_persons = input(\"No. of persons in household:\")\n",
        "marital_status = input(\"Marital Status:\")\n",
        "serving_forces = input(\"Currently serving in Armed Forces?\")\n",
        "\n",
        "\n",
        "print(\"1871 Census\\nName:\", name, \"\\nDate of Birth:\", date_birth, \"\\nAge:\", age,\n",
        "      \"\\nOccupation:\", occupation, \"\\nHouse Number:\", house_number, \"\\nStreet Name:\", street_name,\n",
        "      \"\\nTown:\", town, \"\\nNo. of persons in household:\", num_persons,\n",
        "      \"\\nMarital Status:\", marital_status, \"\\nCurrently serving in Armed Forces?\", serving_forces)\n",
        "\n"
      ],
      "execution_count": 4,
      "outputs": [
        {
          "output_type": "stream",
          "name": "stdout",
          "text": [
            "Name:Diego\n",
            "Date of Birth:25/09/1990\n",
            "Age:31\n",
            "Occupation:Ingeniero\n",
            "House Number:10\n",
            "Street Name:Next\n",
            "Town:Bogota\n",
            "No. of persons in household:10\n",
            "Marital Status:Casado\n",
            "Currently serving in Armed Forces?yes\n",
            "1871 Census\n",
            "Name: Diego \n",
            "Date of Birth: 25/09/1990 \n",
            "Age: 31 \n",
            "Occupation: Ingeniero \n",
            "House Number: 10 \n",
            "Street Name: Next \n",
            "Town: Bogota \n",
            "No. of persons in household: 10 \n",
            "Marital Status: Casado \n",
            "Currently serving in Armed Forces? yes\n"
          ]
        }
      ]
    },
    {
      "cell_type": "markdown",
      "metadata": {
        "id": "G3hz01WZc56i"
      },
      "source": [
        "<details>\n",
        "<summary>Dale a la flecha si necesitas una pista</summary>\n",
        "<pre><code>\n",
        "nombre=input()\n",
        "print(\"Tu nombre es:\",nombre)\n",
        "#igual para todos los campos del formulario en esta misma celda\n",
        "<code><pre>\n",
        "</details>"
      ]
    },
    {
      "cell_type": "markdown",
      "metadata": {
        "id": "VISoYoNMdaaS"
      },
      "source": [
        "##Instrucciones\n",
        "Dado que ya sabemos leer y escribir 😊, podemos hacer nuestro primer programa que haga un cálculo. Empezaremos con un fácil: ¡sumar dos números! Aquí tenemos el algoritmo\n",
        "\n",
        "---\n",
        "**Algoritmo:** Sumar dos números reales\n",
        "---\n",
        "1.   **leer** numero_uno\n",
        "2.   **leer** numero_dos\n",
        "3.   **calcular** $suma=numero\\_uno+numero\\_dos$ \n",
        "4.   **Retornar** suma\n",
        "---\n",
        "\n",
        "A continuación el programa. ¡Pruebalo sumando 10.5 con 22.3!"
      ]
    },
    {
      "cell_type": "code",
      "metadata": {
        "colab": {
          "base_uri": "https://localhost:8080/",
          "height": 0
        },
        "id": "m2600umCgViD",
        "outputId": "4a16d679-a0a7-4fdb-9236-dc1f5596c026"
      },
      "source": [
        "'''\n",
        "Programa para sumar dos numeros reales\n",
        "Oscar Franco-Bedoya\n",
        "05/05/2021\n",
        "'''\n",
        "numero_uno=input(\"Digita el número uno para la suma:\")\n",
        "numero_dos=input(\"Digita el número  dos para la suma:\")\n",
        "suma=numero_uno+numero_dos\n",
        "print(\"La suma entre\", numero_uno, \"y\",numero_dos,\"es\",suma)"
      ],
      "execution_count": 5,
      "outputs": [
        {
          "output_type": "stream",
          "name": "stdout",
          "text": [
            "Digita el número uno para la suma:5\n",
            "Digita el número  dos para la suma:2\n",
            "La suma entre 5 y 2 es 52\n"
          ]
        }
      ]
    },
    {
      "cell_type": "markdown",
      "metadata": {
        "id": "i1um2jnDiEpj"
      },
      "source": [
        "**¿Sorprendido con el resultado?**\n",
        "```\n",
        "La suma entre 10.5 y 22.3 es 10.522.3\n",
        "```\n",
        "**¿Identificas el problema?**\n",
        "\n",
        "**¿Que supones que pasó?**\n",
        "\n",
        "Como lo habíamos descrito antes en este laboratorio, la función ``input()`` retorna un tipo cadena de caracteres o texto, por lo tanto lo que parece estar haciendo el operador ``+`` no es sumar, aritmeticamente hablando, lo que hace es concatenar las dos cadenas.\n",
        "\n",
        "## Solución\n",
        "Afortunadamente Python nos ofrece una serie de funciones para trabajar con los tipos de una variable (¿recuerdas los elementos de una variable 1. nombre 2. valor 3. tipo?)\n",
        "por ejemplo\n",
        "```python\n",
        "type() #retorna el tipo de una variable\n",
        "```\n",
        "\n",
        "\n"
      ]
    },
    {
      "cell_type": "markdown",
      "source": [
        ""
      ],
      "metadata": {
        "id": "dznwY-oEJfca"
      }
    },
    {
      "cell_type": "code",
      "metadata": {
        "id": "85zogjZ0hVgy",
        "outputId": "2e493ca9-9a35-499b-fd9b-9b805cc07372",
        "colab": {
          "base_uri": "https://localhost:8080/",
          "height": 0
        }
      },
      "source": [
        "#Probando la instrucciòn type()\n",
        "numero_uno=input(\"Digita el número uno para la suma:\")\n",
        "type(numero_uno)\n"
      ],
      "execution_count": 6,
      "outputs": [
        {
          "name": "stdout",
          "output_type": "stream",
          "text": [
            "Digita el número uno para la suma:4\n"
          ]
        },
        {
          "output_type": "execute_result",
          "data": {
            "text/plain": [
              "str"
            ]
          },
          "metadata": {},
          "execution_count": 6
        }
      ]
    },
    {
      "cell_type": "markdown",
      "metadata": {
        "id": "giFp77JBqipz"
      },
      "source": [
        "Elemental mi querido Watson, lo que se lee con ```input()```se retorna como ```str``` \n",
        "\n",
        "### Conversion de tipos\n",
        "Lo que necesitamos es una función que nos permita convertir cadenas str en números reales, esta función es:\n",
        "```python:\n",
        "float() #gracias Python\n",
        "```\n",
        "\n",
        "Veamos com funciona en nuestro programa"
      ]
    },
    {
      "cell_type": "code",
      "metadata": {
        "id": "fmAFZ8SisFA2",
        "outputId": "467bd612-dfe4-426c-ccf5-30b0586385db",
        "colab": {
          "base_uri": "https://localhost:8080/",
          "height": 0
        }
      },
      "source": [
        "'''\n",
        "Programa para sumar dos numeros reales V2.0\n",
        "Oscar Franco-Bedoya\n",
        "05/05/2021\n",
        "'''\n",
        "numero_uno=input(\"Digita el número uno para la suma:\")\n",
        "numero_uno=float(numero_uno) #convierte el valor que tenia numero_uno a float y lo almacena en la misma variable que cambia de tipo ¿Recuerdas como se llama esto?\n",
        "numero_dos=input(\"Digita el número  dos para la suma:\")\n",
        "numero_dos=float(numero_dos) #convierte el valor que tenia numero_dos a float y lo almacena en la misma variable que cambia de tipo ¿Recuerdas como se llama esto?\n",
        "suma=numero_uno+numero_dos\n",
        "print(\"La suma entre\", numero_uno, \"y\",numero_dos,\"es\",suma)"
      ],
      "execution_count": 7,
      "outputs": [
        {
          "output_type": "stream",
          "name": "stdout",
          "text": [
            "Digita el número uno para la suma:2\n",
            "Digita el número  dos para la suma:4\n",
            "La suma entre 2.0 y 4.0 es 6.0\n"
          ]
        }
      ]
    },
    {
      "cell_type": "markdown",
      "metadata": {
        "id": "jryU1giYssfI"
      },
      "source": [
        "Muy bien, ahora si tenemos nuestro programa funcionando correctamente\n",
        "** Podemos mejorarlo **\n",
        "Dado que una función como input() retorna un valor, esta puede ser llamada como parámetro de entrada a otra función, en particular, la función float()\n",
        "```python:\n",
        "float(input()) #Convierte el valor str retornado por input() a float\n",
        "```\n",
        "La versiòn 3 del programa será entonces:"
      ]
    },
    {
      "cell_type": "code",
      "metadata": {
        "id": "MgWnSuI7tcxY",
        "outputId": "f50237c1-b17b-479e-977a-9791409c2dd5",
        "colab": {
          "base_uri": "https://localhost:8080/",
          "height": 0
        }
      },
      "source": [
        "'''\n",
        "Programa para sumar dos numeros reales V3.0\n",
        "Oscar Franco-Bedoya\n",
        "05/05/2021\n",
        "'''\n",
        "numero_uno=float(input(\"Digita el número uno para la suma:\"))\n",
        "numero_dos=float(input(\"Digita el número  dos para la suma:\"))\n",
        "suma=numero_uno+numero_dos\n",
        "print(\"La suma entre\", numero_uno, \"y\",numero_dos,\"es\",suma)"
      ],
      "execution_count": 8,
      "outputs": [
        {
          "output_type": "stream",
          "name": "stdout",
          "text": [
            "Digita el número uno para la suma:1\n",
            "Digita el número  dos para la suma:2\n",
            "La suma entre 1.0 y 2.0 es 3.0\n"
          ]
        }
      ]
    },
    {
      "cell_type": "markdown",
      "metadata": {
        "id": "FdNdHOCEwVOz"
      },
      "source": [
        "por analogía, si necesitaramos convertir no a float sino a int sería: \n",
        "```python:\n",
        "int(input()) #Convierte el valor str retornado por input() a float\n",
        "```\n"
      ]
    },
    {
      "cell_type": "markdown",
      "metadata": {
        "id": "m8K7PrF4uQav"
      },
      "source": [
        "#Ejercicio\n",
        "Para la versión 4 de nuestro programa modifiquémoslo para que realice las 4 operaciones aritméticas y la potencia/exponenciación"
      ]
    },
    {
      "cell_type": "code",
      "metadata": {
        "id": "SAfnsPfhuwDu",
        "outputId": "747bcd71-4f0f-4e93-b098-3f4e6ed10392",
        "colab": {
          "base_uri": "https://localhost:8080/",
          "height": 0
        }
      },
      "source": [
        "'''\n",
        "Programa para realiza las 4 operaciones aritméticas y  eleva a la potencia para dos numeros reales V4.0\n",
        "Oscar Franco-Bedoya\n",
        "05/05/2021\n",
        "'''\n",
        "numero_uno=float(input(\"Digita el número uno:\"))\n",
        "numero_dos=float(input(\"Digita el número:\"))\n",
        "print(numero_uno+numero_dos)\n",
        "print(numero_uno-numero_dos)\n",
        "print(numero_uno*numero_dos)\n",
        "print(numero_uno/numero_dos)\n",
        "print(numero_uno**numero_dos)"
      ],
      "execution_count": 9,
      "outputs": [
        {
          "output_type": "stream",
          "name": "stdout",
          "text": [
            "Digita el número uno:2\n",
            "Digita el número:3\n",
            "5.0\n",
            "-1.0\n",
            "6.0\n",
            "0.6666666666666666\n",
            "8.0\n"
          ]
        }
      ]
    },
    {
      "cell_type": "markdown",
      "metadata": {
        "id": "-sUVMJ7OcFnC"
      },
      "source": [
        "---\n",
        "FINAL DEL LABORATORIO\n",
        "\n",
        "___"
      ]
    }
  ]
}