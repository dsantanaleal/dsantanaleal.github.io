{
  "nbformat": 4,
  "nbformat_minor": 0,
  "metadata": {
    "colab": {
      "name": "Expresiones.ipynb",
      "provenance": [],
      "collapsed_sections": [],
      "toc_visible": true,
      "include_colab_link": true
    },
    "kernelspec": {
      "name": "python3",
      "display_name": "Python 3"
    },
    "language_info": {
      "name": "python"
    }
  },
  "cells": [
    {
      "cell_type": "markdown",
      "metadata": {
        "id": "view-in-github",
        "colab_type": "text"
      },
      "source": [
        "<a href=\"https://colab.research.google.com/github/dsantanaleal/dsantanaleal.github.io/blob/master/Expresiones.ipynb\" target=\"_parent\"><img src=\"https://colab.research.google.com/assets/colab-badge.svg\" alt=\"Open In Colab\"/></a>"
      ]
    },
    {
      "cell_type": "markdown",
      "metadata": {
        "id": "HXwJzI0u2Fev"
      },
      "source": [
        "# Laboratorio 2.2\n",
        "\n",
        "*Elaborado por Oscar Franco-Bedoya*\n",
        "\n",
        "*`Proyecto Misión TIC 2022*\n",
        "\n",
        "\n",
        "## Objetivo\n",
        "En este laboratorio vamos a poner en práctica el manejo de **expresiones** en Python, específicamente con los operadores aritméticos (suma, resta, multiplicación y división). Para ello resolveremos algunos casos prácticos y tambien evaluaremos expresiones aritméticas que nos ayuden a  familiarizarnos con este tema. \n",
        "\n",
        "## Temperatura\n",
        "Con la epidemia generada por el virus COVID-19 se incrementó la importación de termómetros digitales, sin embargo, al verificar un lote de más de 10000 termómetros, se percatarón que solo toma la temperatura en grados Fahrenheit y se necesita poder convertirlos a grados centígrados. Afortunadamente  nos han dado la fórmula de conversión\n",
        "\n",
        "$$ C=(F-32)*\\frac{5}{9} $$\n",
        "\n",
        "El siguiente es el programa que realiza la conversión\n",
        "\n",
        "*Recuerda que se ejecuta con el icono de play en la esquina la izquierda*"
      ]
    },
    {
      "cell_type": "code",
      "metadata": {
        "id": "J_1g8Pby17iU",
        "outputId": "a7317e62-c05f-4d3b-c9a7-c9653c4b1578",
        "colab": {
          "base_uri": "https://localhost:8080/",
          "height": 0
        }
      },
      "source": [
        "# código fuente para convertir grados fahrenheit  a grados centígrados\n",
        "f=50 #define la variable f con la asignación del valor\n",
        "c=(f-32)*5/9  #conversión\n",
        "print(f,\"Grados fahrenheit es equivalente a\",c,\"grados centígrados\")"
      ],
      "execution_count": 16,
      "outputs": [
        {
          "output_type": "stream",
          "name": "stdout",
          "text": [
            "50 Grados fahrenheit es equivalente a 10.0 grados centígrados\n"
          ]
        }
      ]
    },
    {
      "cell_type": "markdown",
      "metadata": {
        "id": "cfZ14BDZ7bWq"
      },
      "source": [
        "## Temperatura dos\n",
        "Dado el éxito del programa anterior, nos han solicitado un nuevo programa que convierta la temperatura de grados centígrados a grados Fahrenheit. La fórmula de conversión es la siguiente\n",
        "\n",
        "$$ F=(C*\\frac{9}{5})+32 $$\n",
        "\n",
        "Escribe el programa en la siguiente celda"
      ]
    },
    {
      "cell_type": "code",
      "metadata": {
        "id": "dFnLJpNU9MMF",
        "outputId": "59cc9e9a-da2a-4ce8-f978-f06118ce3f89",
        "colab": {
          "base_uri": "https://localhost:8080/",
          "height": 0
        }
      },
      "source": [
        "# codifica aqui\n",
        "c=2\n",
        "f=(c*2/5)+32\n",
        "print(c,\"Grados centigrados es equivalente a\", f, \"fahrenheit\")"
      ],
      "execution_count": 15,
      "outputs": [
        {
          "output_type": "stream",
          "name": "stdout",
          "text": [
            "2 Grados centigrados es equivalente a 32.8 fahrenheit\n"
          ]
        }
      ]
    },
    {
      "cell_type": "markdown",
      "metadata": {
        "id": "nvy6bEB995rz"
      },
      "source": [
        "<details>\n",
        "<summary>Dale a la flecha si necesitas una pista</summary>\n",
        "<pre><code>\n",
        "c=10\n",
        "f= #completa con la expresión\n",
        "print(c,\"Grados centigrados es equivalente a\",f,\"grados Farenheit\")\n",
        "<code><pre>\n",
        "</details>"
      ]
    },
    {
      "cell_type": "markdown",
      "metadata": {
        "id": "0CJzw0KyIO1G"
      },
      "source": [
        "## Orden de las operaciones\n",
        "Cuando mas de un operador aparece en una expresión, el órden en que se evalúan depende de las **reglas de precedencia** Que son\n",
        "\n",
        "\n",
        "1.   Los paréntesis tienen el mayor valor de procedencia\n",
        "2.   El siguiente puesto es para la exponenciación\n",
        "3.   Multiplicación y División tienen la misma precedencia\n",
        "4.   Por último están la suma y la resta\n",
        "5.   Si en la expresión hay operadores con la misma presedencia, se evalúan de izquierda a derecha\n"
      ]
    },
    {
      "cell_type": "markdown",
      "metadata": {
        "id": "K_OwNDYCIXUX"
      },
      "source": [
        "### Ejercicios presedencia\n",
        "\n",
        "Calcula el resultado de estas expresiones, antes de caer en la tentación de probarlas en Python.Luego de que lo hagas, cae en la tentación.\n",
        "*  $2*(3-1)$\n",
        "*   $(1+1)**(5-2)$\n",
        "*   $400*100/(20-10+50)$\n",
        "*   $2**1+1$\n",
        "*   $3*1**3$\n",
        "*   $2*3-1$\n",
        "*   $5-3-1$\n",
        "*   $+--2$\n",
        "*   $-5/2-2$\n",
        "*   $-5//2-2$\n",
        "*   $3\\%2/5-8*3*15+18/8-*5$\n",
        "\n"
      ]
    },
    {
      "cell_type": "code",
      "metadata": {
        "colab": {
          "base_uri": "https://localhost:8080/",
          "height": 0
        },
        "id": "Mf_b2h4TKt5-",
        "outputId": "d63f0268-368f-42a7-ad36-d12f0dd560ca"
      },
      "source": [
        "#Escribe las expresiones aquí\n",
        "2*(3-1)\n",
        "(1+1)**(5-2)\n",
        "400*100/(20-10+50)\n",
        "2**1+1\n",
        "3*1**3\n",
        "2*3-1\n",
        "5-3-1\n",
        "+--2\n",
        "-5/2-2\n",
        "-5//2-2\n",
        "3%2/5-8*3*15+18/8-5"
      ],
      "execution_count": 17,
      "outputs": [
        {
          "output_type": "execute_result",
          "data": {
            "text/plain": [
              "-362.55"
            ]
          },
          "metadata": {},
          "execution_count": 17
        }
      ]
    },
    {
      "cell_type": "markdown",
      "metadata": {
        "id": "o3aqcfQX1o8i"
      },
      "source": [
        "### Ejercicios presedencia\n",
        "\n",
        "Calcula el resultado de estas expresiones, antes de caer en la tentación de probarlas en Python.Luego de que lo hagas, cae en la tentación.\n",
        "*  $2*(3-1)$\n",
        "*   $(1+1)**(5-2)$\n",
        "*   $400*100/(20-10+50)$\n",
        "*   $2**1+1$\n",
        "*   $3*1**3$\n",
        "*   $2*3-1$\n",
        "*   $5-3-1$\n",
        "*   $+--2$\n",
        "*   $-5/2-2$\n",
        "*   $-5//2-2$\n",
        "*   $3\\%2/5-8*3*15+18/8-*5$\n",
        "\n"
      ]
    },
    {
      "cell_type": "markdown",
      "metadata": {
        "id": "nGDIcKw01oHN"
      },
      "source": [
        "### Ejercicios presedencia\n",
        "\n",
        "Calcula el resultado de estas expresiones, antes de caer en la tentación de probarlas en Python.Luego de que lo hagas, cae en la tentación.\n",
        "*  $2*(3-1)$\n",
        "*   $(1+1)**(5-2)$\n",
        "*   $400*100/(20-10+50)$\n",
        "*   $2**1+1$\n",
        "*   $3*1**3$\n",
        "*   $2*3-1$\n",
        "*   $5-3-1$\n",
        "*   $+--2$\n",
        "*   $-5/2-2$\n",
        "*   $-5//2-2$\n",
        "*   $3\\%2/5-8*3*15+18/8-*5$\n",
        "\n"
      ]
    },
    {
      "cell_type": "markdown",
      "metadata": {
        "id": "CetBvTDMK6xS"
      },
      "source": [
        "<details>\n",
        "<summary>Dale a la flecha si necesitas una pista</summary>\n",
        "<pre><code>\n",
        "2*(3-1) #solo escribe las expresiones y prueba ejecutando el programa\n",
        "\n",
        "<code><pre>\n",
        "</details>"
      ]
    },
    {
      "cell_type": "markdown",
      "metadata": {
        "id": "-b6GsA30N559"
      },
      "source": [
        "## Conversor de Divisas\n",
        "Realizar un programa que dada una cantidad de dinero en dolares, la convierta a pesos  [Tasa Dolar](https://www.banrep.gov.co/es/estadisticas/trm)"
      ]
    },
    {
      "cell_type": "code",
      "metadata": {
        "id": "KLDCoPp0OByh",
        "outputId": "8a425495-424a-4f26-d210-e0ce1dc75a21",
        "colab": {
          "base_uri": "https://localhost:8080/",
          "height": 0
        }
      },
      "source": [
        "# TRM May 4th - 4.086,08\n",
        "trm = 4086.08\n",
        "us_dollars = 1000\n",
        "print(\"US$\", us_dollars, \"dolares son $\", us_dollars*trm, \" pesos colombianos\")\n"
      ],
      "execution_count": 18,
      "outputs": [
        {
          "output_type": "stream",
          "name": "stdout",
          "text": [
            "US$ 1000 dolares son $ 4086080.0  pesos colombianos\n"
          ]
        }
      ]
    },
    {
      "cell_type": "markdown",
      "metadata": {
        "id": "ONXmRBA_OCIm"
      },
      "source": [
        "<details>\n",
        "<summary>Dale a la flecha si necesitas una pista</summary>\n",
        "<pre>\n",
        "<code>\n",
        "dolares = 500\n",
        "pesos = #Formula de conversión\n",
        "print() #escribe un mensaje con la respuesta\n",
        "<code>\n",
        "<pre>\n",
        "</details>"
      ]
    },
    {
      "cell_type": "markdown",
      "metadata": {
        "id": "4LvEwrjUZKTq"
      },
      "source": [
        "# Gordo, ¿Quien yo?\n",
        "El índice de masa corporal **(IMC)** es un método utilizado para estimar la cantidad de grasa corporal que tiene una persona, y determinar por tanto si el peso está dentro del rango normal, o por el contrario, se tiene sobrepeso o delgadez. tomado de este sitio [IMC](https://cuidateplus.marca.com/alimentacion/diccionario/indice-masa-corporal-imc.html)\n",
        "\n",
        "Para no herir susceptibilidades, solo calcularemos el IMC y no diremos nada del sobrepeso. La fórmula para calcular el IMC es la siguiente\n",
        "$$\\frac{peso(kg)}{{altura(mt)}^2}$$\n",
        "\n",
        "## !Hagamos el programa!"
      ]
    },
    {
      "cell_type": "code",
      "metadata": {
        "id": "4kDsPZUcZQJI",
        "outputId": "31b71499-3bcf-4213-cf83-93d9ab9992be",
        "colab": {
          "base_uri": "https://localhost:8080/",
          "height": 0
        }
      },
      "source": [
        "# Calculo del IMC\n",
        "altura=1.75\n",
        "peso=85\n",
        "# Sigue el programa aqui\n",
        "print(\"imc: \", peso/altura**2)"
      ],
      "execution_count": 19,
      "outputs": [
        {
          "output_type": "stream",
          "name": "stdout",
          "text": [
            "imc:  27.755102040816325\n"
          ]
        }
      ]
    },
    {
      "cell_type": "markdown",
      "metadata": {
        "id": "BDnGTPysZWnC"
      },
      "source": [
        "<details>\n",
        "<summary>Dale a la flecha si necesitas una pista</summary>\n",
        "<pre>\n",
        "<code>\n",
        "altura=1.75\n",
        "peso=85\n",
        "imc=# completa la fórmula\n",
        "print() #escribe un mensaje con todos los datos, peso, altura e imc\n",
        "<code><pre>\n",
        "<code>\n",
        "<pre>\n",
        "</details>"
      ]
    },
    {
      "cell_type": "markdown",
      "metadata": {
        "id": "Y9CX4EM-Znr0"
      },
      "source": [
        "---\n",
        "\n",
        "FINAL DEL LABORATORIO\n",
        "\n",
        "---\n",
        "\n"
      ]
    }
  ]
}